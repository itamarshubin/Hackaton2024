{
 "cells": [
  {
   "cell_type": "markdown",
   "id": "verified-motorcycle",
   "metadata": {},
   "source": [
    "### Part 1 - Import the libraries, no need more libraries!"
   ]
  },
  {
   "cell_type": "code",
   "execution_count": 1,
   "id": "distinct-gossip",
   "metadata": {},
   "outputs": [],
   "source": [
    "import pandas as pd\n",
    "from sklearn.cluster import KMeans\n",
    "import matplotlib.pyplot as plt"
   ]
  },
  {
   "cell_type": "markdown",
   "id": "bored-smell",
   "metadata": {},
   "source": [
    "### Part 2 - read the data\n",
    "The loc is dataframe contain the location of each row, the features contain more information about each row"
   ]
  },
  {
   "cell_type": "code",
   "execution_count": 2,
   "id": "raised-archive",
   "metadata": {},
   "outputs": [],
   "source": [
    "df = pd.read_csv('data.csv')\n",
    "loc, features = df[['x', 'y']].copy(), df[['yiddishkeit index', 'rich index']].copy()"
   ]
  },
  {
   "cell_type": "markdown",
   "id": "statewide-encoding",
   "metadata": {},
   "source": [
    "### Part 3 - Plot the features dataframe as scatter\n",
    "can you see the anomalies?"
   ]
  },
  {
   "cell_type": "code",
   "execution_count": 3,
   "id": "frequent-biology",
   "metadata": {},
   "outputs": [],
   "source": [
    "# Do it yourself"
   ]
  },
  {
   "cell_type": "markdown",
   "id": "sorted-original",
   "metadata": {},
   "source": [
    "### Part 4 - train a kmean model and decide for each row - is it anomaly or not?"
   ]
  },
  {
   "cell_type": "code",
   "execution_count": 4,
   "id": "operating-patch",
   "metadata": {},
   "outputs": [],
   "source": [
    "# Do it yourself"
   ]
  },
  {
   "cell_type": "markdown",
   "id": "guided-andorra",
   "metadata": {},
   "source": [
    "### Part 5 - plot the location of all the anomalies as scatter"
   ]
  },
  {
   "cell_type": "code",
   "execution_count": 5,
   "id": "aware-shopper",
   "metadata": {},
   "outputs": [],
   "source": [
    "# Do it yourself"
   ]
  },
  {
   "cell_type": "markdown",
   "id": "russian-badge",
   "metadata": {},
   "source": [
    "I guess you can see the code now :)"
   ]
  }
 ],
 "metadata": {
  "kernelspec": {
   "display_name": "Python 3 (ipykernel)",
   "language": "python",
   "name": "python3"
  },
  "language_info": {
   "codemirror_mode": {
    "name": "ipython",
    "version": 3
   },
   "file_extension": ".py",
   "mimetype": "text/x-python",
   "name": "python",
   "nbconvert_exporter": "python",
   "pygments_lexer": "ipython3",
   "version": "3.7.9"
  }
 },
 "nbformat": 4,
 "nbformat_minor": 5
}
